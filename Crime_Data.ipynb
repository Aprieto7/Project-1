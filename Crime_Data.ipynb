{
 "cells": [
  {
   "cell_type": "code",
   "execution_count": 4,
   "id": "touched-fisher",
   "metadata": {
    "scrolled": true
   },
   "outputs": [],
   "source": [
    "import matplotlib.pyplot as plt\n",
    "import pandas as pd\n",
    "import numpy as np\n",
    "import requests\n",
    "import time\n",
    "#from scipy.stats import linregress\n",
    "import json\n",
    "from pprint import pprint\n",
    "all_agencies = \"agencies/all_agencies.csv\"\n",
    "agency_df = pd.read_csv(all_agencies)\n",
    "from config import fbi_key\n",
    "fbi_url = \"https://api.usa.gov/crime/fbi/sapi/\"\n",
    "\n",
    "\n",
    "agencies = agency_df[\"ori\"]\n",
    "agg_assault = []\n",
    "burglary = []\n",
    "larceny = []\n",
    "mvt = []\n",
    "homicide = []\n",
    "rape = []\n",
    "robbery = []\n",
    "arson = []\n",
    "viol_crime = []\n",
    "prop_crime = []\n",
    "crime = []\n",
    "\n",
    "for agency in agencies:\n",
    "\n",
    "#`https://api.usa.gov/crime/fbi/sapi/{desired_endpiont}?api_key'\n",
    "    url = f\"https://api.usa.gov/crime/fbi/sapi/api/summarized/agencies/{agency}/offenses/2019/2019?API_KEY={fbi_key}\"\n",
    "    response = requests.get(url)\n",
    "    response_json = response.json()\n",
    "    \n",
    "    crime.extend(response_json[\"results\"])\n",
    "\n",
    "    #if we want to do specific offenses, put offenses in as {offenses}\n",
    "    #print(response_json['results'])"
   ]
  },
  {
   "cell_type": "code",
   "execution_count": 3,
   "id": "false-black",
   "metadata": {},
   "outputs": [
    {
     "name": "stdout",
     "output_type": "stream",
     "text": [
      "[{'ori': 'TX1551200', 'data_year': 2019, 'offense': 'rape', 'state_abbr': 'TX', 'cleared': 32, 'actual': 88}, {'ori': 'TX1551200', 'data_year': 2019, 'offense': 'violent-crime', 'state_abbr': 'TX', 'cleared': 293, 'actual': 873}, {'ori': 'TX1551200', 'data_year': 2019, 'offense': 'robbery', 'state_abbr': 'TX', 'cleared': 32, 'actual': 133}, {'ori': 'TX1551200', 'data_year': 2019, 'offense': 'rape-legacy', 'state_abbr': 'TX', 'cleared': 26, 'actual': 74}, {'ori': 'TX1551200', 'data_year': 2019, 'offense': 'aggravated-assault', 'state_abbr': 'TX', 'cleared': 198, 'actual': 568}, {'ori': 'TX1551200', 'data_year': 2019, 'offense': 'arson', 'state_abbr': 'TX', 'cleared': 1, 'actual': 9}, {'ori': 'TX1551200', 'data_year': 2019, 'offense': 'burglary', 'state_abbr': 'TX', 'cleared': 183, 'actual': 784}, {'ori': 'TX1551200', 'data_year': 2019, 'offense': 'homicide', 'state_abbr': 'TX', 'cleared': 5, 'actual': 10}, {'ori': 'TX1551200', 'data_year': 2019, 'offense': 'human-trafficing', 'state_abbr': 'TX', 'cleared': 0, 'actual': 0}, {'ori': 'TX1551200', 'data_year': 2019, 'offense': 'larceny', 'state_abbr': 'TX', 'cleared': 919, 'actual': 3492}, {'ori': 'TX1551200', 'data_year': 2019, 'offense': 'motor-vehicle-theft', 'state_abbr': 'TX', 'cleared': 56, 'actual': 323}, {'ori': 'TX1551200', 'data_year': 2019, 'offense': 'property-crime', 'state_abbr': 'TX', 'cleared': 1158, 'actual': 4599}]\n"
     ]
    }
   ],
   "source": [
    "print(crime)"
   ]
  },
  {
   "cell_type": "code",
   "execution_count": 2,
   "id": "atmospheric-turtle",
   "metadata": {},
   "outputs": [
    {
     "ename": "TypeError",
     "evalue": "list indices must be integers or slices, not str",
     "output_type": "error",
     "traceback": [
      "\u001b[1;31m---------------------------------------------------------------------------\u001b[0m",
      "\u001b[1;31mTypeError\u001b[0m                                 Traceback (most recent call last)",
      "\u001b[1;32m<ipython-input-2-12aca13bccf9>\u001b[0m in \u001b[0;36m<module>\u001b[1;34m\u001b[0m\n\u001b[0;32m      1\u001b[0m \u001b[0mcrime\u001b[0m\u001b[1;33m=\u001b[0m\u001b[1;33m(\u001b[0m\u001b[0mresponse_json\u001b[0m\u001b[1;33m[\u001b[0m\u001b[1;34m\"results\"\u001b[0m\u001b[1;33m]\u001b[0m\u001b[1;33m)\u001b[0m\u001b[1;33m\u001b[0m\u001b[1;33m\u001b[0m\u001b[0m\n\u001b[1;32m----> 2\u001b[1;33m \u001b[0mcrime\u001b[0m\u001b[1;33m[\u001b[0m\u001b[1;34m\"actual\"\u001b[0m\u001b[1;33m]\u001b[0m\u001b[1;33m[\u001b[0m\u001b[1;34m\"offense\"\u001b[0m\u001b[1;33m]\u001b[0m\u001b[1;33m\u001b[0m\u001b[1;33m\u001b[0m\u001b[0m\n\u001b[0m",
      "\u001b[1;31mTypeError\u001b[0m: list indices must be integers or slices, not str"
     ]
    }
   ],
   "source": [
    "#crime=(response_json[\"results\"])\n",
    "#crime[\"actual\"][\"offense\"]"
   ]
  },
  {
   "cell_type": "code",
   "execution_count": 5,
   "id": "spiritual-processing",
   "metadata": {},
   "outputs": [
    {
     "data": {
      "text/html": [
       "<div>\n",
       "<style scoped>\n",
       "    .dataframe tbody tr th:only-of-type {\n",
       "        vertical-align: middle;\n",
       "    }\n",
       "\n",
       "    .dataframe tbody tr th {\n",
       "        vertical-align: top;\n",
       "    }\n",
       "\n",
       "    .dataframe thead th {\n",
       "        text-align: right;\n",
       "    }\n",
       "</style>\n",
       "<table border=\"1\" class=\"dataframe\">\n",
       "  <thead>\n",
       "    <tr style=\"text-align: right;\">\n",
       "      <th></th>\n",
       "      <th>ori</th>\n",
       "      <th>data_year</th>\n",
       "      <th>offense</th>\n",
       "      <th>state_abbr</th>\n",
       "      <th>cleared</th>\n",
       "      <th>actual</th>\n",
       "    </tr>\n",
       "  </thead>\n",
       "  <tbody>\n",
       "    <tr>\n",
       "      <th>0</th>\n",
       "      <td>TX0153500</td>\n",
       "      <td>2019</td>\n",
       "      <td>violent-crime</td>\n",
       "      <td>TX</td>\n",
       "      <td>22</td>\n",
       "      <td>24</td>\n",
       "    </tr>\n",
       "    <tr>\n",
       "      <th>1</th>\n",
       "      <td>TX0153500</td>\n",
       "      <td>2019</td>\n",
       "      <td>arson</td>\n",
       "      <td>TX</td>\n",
       "      <td>0</td>\n",
       "      <td>0</td>\n",
       "    </tr>\n",
       "    <tr>\n",
       "      <th>2</th>\n",
       "      <td>TX0153500</td>\n",
       "      <td>2019</td>\n",
       "      <td>aggravated-assault</td>\n",
       "      <td>TX</td>\n",
       "      <td>21</td>\n",
       "      <td>24</td>\n",
       "    </tr>\n",
       "    <tr>\n",
       "      <th>3</th>\n",
       "      <td>TX0153500</td>\n",
       "      <td>2019</td>\n",
       "      <td>burglary</td>\n",
       "      <td>TX</td>\n",
       "      <td>0</td>\n",
       "      <td>3</td>\n",
       "    </tr>\n",
       "    <tr>\n",
       "      <th>4</th>\n",
       "      <td>TX0153500</td>\n",
       "      <td>2019</td>\n",
       "      <td>homicide</td>\n",
       "      <td>TX</td>\n",
       "      <td>0</td>\n",
       "      <td>0</td>\n",
       "    </tr>\n",
       "    <tr>\n",
       "      <th>...</th>\n",
       "      <td>...</td>\n",
       "      <td>...</td>\n",
       "      <td>...</td>\n",
       "      <td>...</td>\n",
       "      <td>...</td>\n",
       "      <td>...</td>\n",
       "    </tr>\n",
       "    <tr>\n",
       "      <th>667</th>\n",
       "      <td>TX1551200</td>\n",
       "      <td>2019</td>\n",
       "      <td>homicide</td>\n",
       "      <td>TX</td>\n",
       "      <td>5</td>\n",
       "      <td>10</td>\n",
       "    </tr>\n",
       "    <tr>\n",
       "      <th>668</th>\n",
       "      <td>TX1551200</td>\n",
       "      <td>2019</td>\n",
       "      <td>human-trafficing</td>\n",
       "      <td>TX</td>\n",
       "      <td>0</td>\n",
       "      <td>0</td>\n",
       "    </tr>\n",
       "    <tr>\n",
       "      <th>669</th>\n",
       "      <td>TX1551200</td>\n",
       "      <td>2019</td>\n",
       "      <td>larceny</td>\n",
       "      <td>TX</td>\n",
       "      <td>919</td>\n",
       "      <td>3492</td>\n",
       "    </tr>\n",
       "    <tr>\n",
       "      <th>670</th>\n",
       "      <td>TX1551200</td>\n",
       "      <td>2019</td>\n",
       "      <td>motor-vehicle-theft</td>\n",
       "      <td>TX</td>\n",
       "      <td>56</td>\n",
       "      <td>323</td>\n",
       "    </tr>\n",
       "    <tr>\n",
       "      <th>671</th>\n",
       "      <td>TX1551200</td>\n",
       "      <td>2019</td>\n",
       "      <td>property-crime</td>\n",
       "      <td>TX</td>\n",
       "      <td>1158</td>\n",
       "      <td>4599</td>\n",
       "    </tr>\n",
       "  </tbody>\n",
       "</table>\n",
       "<p>672 rows × 6 columns</p>\n",
       "</div>"
      ],
      "text/plain": [
       "           ori  data_year              offense state_abbr  cleared  actual\n",
       "0    TX0153500       2019        violent-crime         TX       22      24\n",
       "1    TX0153500       2019                arson         TX        0       0\n",
       "2    TX0153500       2019   aggravated-assault         TX       21      24\n",
       "3    TX0153500       2019             burglary         TX        0       3\n",
       "4    TX0153500       2019             homicide         TX        0       0\n",
       "..         ...        ...                  ...        ...      ...     ...\n",
       "667  TX1551200       2019             homicide         TX        5      10\n",
       "668  TX1551200       2019     human-trafficing         TX        0       0\n",
       "669  TX1551200       2019              larceny         TX      919    3492\n",
       "670  TX1551200       2019  motor-vehicle-theft         TX       56     323\n",
       "671  TX1551200       2019       property-crime         TX     1158    4599\n",
       "\n",
       "[672 rows x 6 columns]"
      ]
     },
     "execution_count": 5,
     "metadata": {},
     "output_type": "execute_result"
    }
   ],
   "source": [
    "crime_df=pd.DataFrame(crime)\n",
    "crime_df"
   ]
  },
  {
   "cell_type": "code",
   "execution_count": null,
   "id": "molecular-botswana",
   "metadata": {},
   "outputs": [],
   "source": [
    "#fbi_key"
   ]
  },
  {
   "cell_type": "code",
   "execution_count": null,
   "id": "severe-match",
   "metadata": {},
   "outputs": [],
   "source": [
    "#county agencies\n",
    "#Brazos (college station) ori - TX0210000\n",
    "#College Station (city) ori - TX0210200\n",
    "#Waco (city) ori - TX1551200\n",
    "#McLennan (Waco) ori - TX1550000\n",
    "#Dallas (Dallas) ori - TX0570000\n",
    "#Dallas (city) ori - TXDPD0000\n",
    "#San Antonio (Bexar) ori - TX0150000\n",
    "#San Antonio (city) ori - TXSPD0000"
   ]
  },
  {
   "cell_type": "code",
   "execution_count": null,
   "id": "collectible-midnight",
   "metadata": {},
   "outputs": [],
   "source": [
    "###_url = \n",
    "\n",
    "#pprint(response_json[\"results\"])\n"
   ]
  },
  {
   "cell_type": "code",
   "execution_count": null,
   "id": "roman-silver",
   "metadata": {},
   "outputs": [],
   "source": [
    "df = pd.DataFrame(crime)\n",
    "len(df)"
   ]
  },
  {
   "cell_type": "code",
   "execution_count": null,
   "id": "nuclear-brush",
   "metadata": {},
   "outputs": [],
   "source": [
    "a = response_json[\"results\"]\n",
    "a.append(response_json[\"results\"])"
   ]
  },
  {
   "cell_type": "code",
   "execution_count": null,
   "id": "mineral-trunk",
   "metadata": {},
   "outputs": [],
   "source": [
    "results_df=pd.DataFrame(response_json[\"results\"])\n",
    "for i in response_json[\"results\"]:\n",
    "    print(i['actual'])\n",
    "    print(i['offense'])\n",
    "    print(f'\\033[34m{\"-\" * 50}\\033[0m')"
   ]
  },
  {
   "cell_type": "code",
   "execution_count": null,
   "id": "upset-blocking",
   "metadata": {},
   "outputs": [],
   "source": [
    "agg_assault.append(response_json[\"offense\"][\"aggravated-assault\"])\n",
    "burglary.append(response_json[\"offense\"][\"burglary\"])\n",
    "larceny.append(response_json[\"offense\"][\"larceny\"])\n",
    "mvt.append(response_json[\"offense\"][\"motor-vehicle-theft\"])\n",
    "homicide.append(response_json[\"offense\"][\"homicide\"])\n",
    "rape.append(response_json[\"offense\"][\"rape\"])\n",
    "robbery.append(response_json[\"offense\"][\"robbery\"])\n",
    "arson.append(response_json[\"offense\"][\"arson\"])\n",
    "viol_crime.append(response_json[\"offense\"][\"violent-crime\"])\n",
    "prop_crime.append(response_json[\"offense\"][\"property-crime\"])\n",
    "\n",
    "print(response_json)"
   ]
  }
 ],
 "metadata": {
  "kernelspec": {
   "display_name": "Python 3",
   "language": "python",
   "name": "python3"
  },
  "language_info": {
   "codemirror_mode": {
    "name": "ipython",
    "version": 3
   },
   "file_extension": ".py",
   "mimetype": "text/x-python",
   "name": "python",
   "nbconvert_exporter": "python",
   "pygments_lexer": "ipython3",
   "version": "3.9.2"
  }
 },
 "nbformat": 4,
 "nbformat_minor": 5
}
