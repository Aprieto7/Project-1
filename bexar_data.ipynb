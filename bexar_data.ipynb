{
 "cells": [
  {
   "cell_type": "code",
   "execution_count": 27,
   "metadata": {
    "scrolled": true
   },
   "outputs": [],
   "source": [
    "import matplotlib.pyplot as plt\n",
    "import pandas as pd\n",
    "import numpy as np\n",
    "import requests\n",
    "import time\n",
    "#from scipy.stats import linregress\n",
    "import json\n",
    "from pprint import pprint\n",
    "bexar = \"bexar.csv\"\n",
    "bexar_df = pd.read_csv(bexar)\n",
    "from config import fbi_key\n",
    "fbi_url = \"https://api.usa.gov/crime/fbi/sapi/\"\n",
    "\n",
    "\n",
    "agg_assault = []\n",
    "burglary = []\n",
    "larceny = []\n",
    "mvt = []\n",
    "homicide = []\n",
    "rape = []\n",
    "robbery = []\n",
    "arson = []\n",
    "viol_crime = []\n",
    "prop_crime = []\n",
    "crime = []\n",
    "\n",
    "bexar_pop=20\n",
    "dallas_pop=26\n",
    "mc_pop=2.56\n",
    "brazos=2.29\n"
   ]
  },
  {
   "cell_type": "code",
   "execution_count": 28,
   "metadata": {},
   "outputs": [],
   "source": [
    "bexar_df\n",
    "bexar_pc_df=bexar_df['actual']/bexar_pop"
   ]
  },
  {
   "cell_type": "code",
   "execution_count": 29,
   "metadata": {},
   "outputs": [
    {
     "data": {
      "text/html": [
       "<div>\n",
       "<style scoped>\n",
       "    .dataframe tbody tr th:only-of-type {\n",
       "        vertical-align: middle;\n",
       "    }\n",
       "\n",
       "    .dataframe tbody tr th {\n",
       "        vertical-align: top;\n",
       "    }\n",
       "\n",
       "    .dataframe thead th {\n",
       "        text-align: right;\n",
       "    }\n",
       "</style>\n",
       "<table border=\"1\" class=\"dataframe\">\n",
       "  <thead>\n",
       "    <tr style=\"text-align: right;\">\n",
       "      <th></th>\n",
       "      <th>Unnamed: 0</th>\n",
       "      <th>Unnamed: 0.1</th>\n",
       "      <th>lat</th>\n",
       "      <th>lon</th>\n",
       "      <th>data_year</th>\n",
       "      <th>cleared</th>\n",
       "      <th>actual</th>\n",
       "    </tr>\n",
       "    <tr>\n",
       "      <th>offense</th>\n",
       "      <th></th>\n",
       "      <th></th>\n",
       "      <th></th>\n",
       "      <th></th>\n",
       "      <th></th>\n",
       "      <th></th>\n",
       "      <th></th>\n",
       "    </tr>\n",
       "  </thead>\n",
       "  <tbody>\n",
       "    <tr>\n",
       "      <th>aggravated-assault</th>\n",
       "      <td>48626</td>\n",
       "      <td>1006</td>\n",
       "      <td>2653.007886</td>\n",
       "      <td>-8863.53217</td>\n",
       "      <td>181664</td>\n",
       "      <td>1288</td>\n",
       "      <td>2948</td>\n",
       "    </tr>\n",
       "    <tr>\n",
       "      <th>arson</th>\n",
       "      <td>48530</td>\n",
       "      <td>1006</td>\n",
       "      <td>2653.007886</td>\n",
       "      <td>-8863.53217</td>\n",
       "      <td>181664</td>\n",
       "      <td>82</td>\n",
       "      <td>230</td>\n",
       "    </tr>\n",
       "    <tr>\n",
       "      <th>burglary</th>\n",
       "      <td>48536</td>\n",
       "      <td>1006</td>\n",
       "      <td>2653.007886</td>\n",
       "      <td>-8863.53217</td>\n",
       "      <td>181664</td>\n",
       "      <td>342</td>\n",
       "      <td>6006</td>\n",
       "    </tr>\n",
       "    <tr>\n",
       "      <th>homicide</th>\n",
       "      <td>48550</td>\n",
       "      <td>1006</td>\n",
       "      <td>2653.007886</td>\n",
       "      <td>-8863.53217</td>\n",
       "      <td>181664</td>\n",
       "      <td>42</td>\n",
       "      <td>60</td>\n",
       "    </tr>\n",
       "    <tr>\n",
       "      <th>human-trafficing</th>\n",
       "      <td>48580</td>\n",
       "      <td>1006</td>\n",
       "      <td>2653.007886</td>\n",
       "      <td>-8863.53217</td>\n",
       "      <td>181664</td>\n",
       "      <td>0</td>\n",
       "      <td>0</td>\n",
       "    </tr>\n",
       "    <tr>\n",
       "      <th>larceny</th>\n",
       "      <td>48594</td>\n",
       "      <td>1006</td>\n",
       "      <td>2653.007886</td>\n",
       "      <td>-8863.53217</td>\n",
       "      <td>181664</td>\n",
       "      <td>4444</td>\n",
       "      <td>27612</td>\n",
       "    </tr>\n",
       "    <tr>\n",
       "      <th>motor-vehicle-theft</th>\n",
       "      <td>48602</td>\n",
       "      <td>1006</td>\n",
       "      <td>2653.007886</td>\n",
       "      <td>-8863.53217</td>\n",
       "      <td>181664</td>\n",
       "      <td>286</td>\n",
       "      <td>3110</td>\n",
       "    </tr>\n",
       "    <tr>\n",
       "      <th>property-crime</th>\n",
       "      <td>48578</td>\n",
       "      <td>1006</td>\n",
       "      <td>2653.007886</td>\n",
       "      <td>-8863.53217</td>\n",
       "      <td>181664</td>\n",
       "      <td>5072</td>\n",
       "      <td>36728</td>\n",
       "    </tr>\n",
       "    <tr>\n",
       "      <th>rape</th>\n",
       "      <td>48518</td>\n",
       "      <td>1006</td>\n",
       "      <td>2653.007886</td>\n",
       "      <td>-8863.53217</td>\n",
       "      <td>181664</td>\n",
       "      <td>116</td>\n",
       "      <td>784</td>\n",
       "    </tr>\n",
       "    <tr>\n",
       "      <th>rape-legacy</th>\n",
       "      <td>48470</td>\n",
       "      <td>1006</td>\n",
       "      <td>2653.007886</td>\n",
       "      <td>-8863.53217</td>\n",
       "      <td>181664</td>\n",
       "      <td>0</td>\n",
       "      <td>50</td>\n",
       "    </tr>\n",
       "    <tr>\n",
       "      <th>robbery</th>\n",
       "      <td>48574</td>\n",
       "      <td>1006</td>\n",
       "      <td>2653.007886</td>\n",
       "      <td>-8863.53217</td>\n",
       "      <td>181664</td>\n",
       "      <td>128</td>\n",
       "      <td>636</td>\n",
       "    </tr>\n",
       "    <tr>\n",
       "      <th>violent-crime</th>\n",
       "      <td>48502</td>\n",
       "      <td>1006</td>\n",
       "      <td>2653.007886</td>\n",
       "      <td>-8863.53217</td>\n",
       "      <td>181664</td>\n",
       "      <td>1574</td>\n",
       "      <td>4478</td>\n",
       "    </tr>\n",
       "  </tbody>\n",
       "</table>\n",
       "</div>"
      ],
      "text/plain": [
       "                     Unnamed: 0  Unnamed: 0.1          lat         lon  \\\n",
       "offense                                                                  \n",
       "aggravated-assault        48626          1006  2653.007886 -8863.53217   \n",
       "arson                     48530          1006  2653.007886 -8863.53217   \n",
       "burglary                  48536          1006  2653.007886 -8863.53217   \n",
       "homicide                  48550          1006  2653.007886 -8863.53217   \n",
       "human-trafficing          48580          1006  2653.007886 -8863.53217   \n",
       "larceny                   48594          1006  2653.007886 -8863.53217   \n",
       "motor-vehicle-theft       48602          1006  2653.007886 -8863.53217   \n",
       "property-crime            48578          1006  2653.007886 -8863.53217   \n",
       "rape                      48518          1006  2653.007886 -8863.53217   \n",
       "rape-legacy               48470          1006  2653.007886 -8863.53217   \n",
       "robbery                   48574          1006  2653.007886 -8863.53217   \n",
       "violent-crime             48502          1006  2653.007886 -8863.53217   \n",
       "\n",
       "                     data_year  cleared  actual  \n",
       "offense                                          \n",
       "aggravated-assault      181664     1288    2948  \n",
       "arson                   181664       82     230  \n",
       "burglary                181664      342    6006  \n",
       "homicide                181664       42      60  \n",
       "human-trafficing        181664        0       0  \n",
       "larceny                 181664     4444   27612  \n",
       "motor-vehicle-theft     181664      286    3110  \n",
       "property-crime          181664     5072   36728  \n",
       "rape                    181664      116     784  \n",
       "rape-legacy             181664        0      50  \n",
       "robbery                 181664      128     636  \n",
       "violent-crime           181664     1574    4478  "
      ]
     },
     "execution_count": 29,
     "metadata": {},
     "output_type": "execute_result"
    }
   ],
   "source": [
    "by_crime_df=bexar_df.groupby(\"offense\").sum()\n",
    "by_crime_df"
   ]
  },
  {
   "cell_type": "code",
   "execution_count": 30,
   "metadata": {},
   "outputs": [
    {
     "data": {
      "image/png": "[encoded data removed]",
      "text/plain": [
       "<Figure size 1440x216 with 1 Axes>"
      ]
     },
     "metadata": {
      "needs_background": "light"
     },
     "output_type": "display_data"
    },
    {
     "data": {
      "text/plain": [
       "<Figure size 432x288 with 0 Axes>"
      ]
     },
     "metadata": {},
     "output_type": "display_data"
    }
   ],
   "source": [
    "by_crime_df=by_crime_df.sort_values(\"actual\",ascending=False)\n",
    "offense_actual=by_crime_df[[\"actual\"]]\n",
    "\n",
    "\n",
    "# Set a title for the chart\n",
    "offense_actual.plot(kind=\"bar\", figsize=(20,3))\n",
    "plt.title(\"2019 Crime in San Antonio, TX\")\n",
    "\n",
    "plt.show()\n",
    "plt.tight_layout()"
   ]
  },
  {
   "cell_type": "code",
   "execution_count": null,
   "metadata": {},
   "outputs": [],
   "source": [
    "#county agencies\n",
    "#Brazos (college station) ori - TX0210000\n",
    "#College Station (city) ori - TX0210200\n",
    "#Waco (city) ori - TX1551200\n",
    "#McLennan (Waco) ori - TX1550000\n",
    "#Dallas (Dallas) ori - TX0570000\n",
    "#Dallas (city) ori - TXDPD0000\n",
    "#San Antonio (Bexar) ori - TX0150000\n",
    "#San Antonio (city) ori - TXSPD0000"
   ]
  },
  {
   "cell_type": "code",
   "execution_count": null,
   "metadata": {},
   "outputs": [],
   "source": []
  },
  {
   "cell_type": "code",
   "execution_count": null,
   "metadata": {},
   "outputs": [],
   "source": []
  },
  {
   "cell_type": "code",
   "execution_count": null,
   "metadata": {},
   "outputs": [],
   "source": []
  },
  {
   "cell_type": "code",
   "execution_count": null,
   "metadata": {},
   "outputs": [],
   "source": [
    "\n"
   ]
  },
  {
   "cell_type": "code",
   "execution_count": null,
   "metadata": {},
   "outputs": [],
   "source": [
    "\n"
   ]
  },
  {
   "cell_type": "code",
   "execution_count": null,
   "metadata": {},
   "outputs": [],
   "source": []
  },
  {
   "cell_type": "code",
   "execution_count": null,
   "metadata": {},
   "outputs": [],
   "source": []
  }
 ],
 "metadata": {
  "kernelspec": {
   "display_name": "Python 3",
   "language": "python",
   "name": "python3"
  },
  "language_info": {
   "codemirror_mode": {
    "name": "ipython",
    "version": 3
   },
   "file_extension": ".py",
   "mimetype": "text/x-python",
   "name": "python",
   "nbconvert_exporter": "python",
   "pygments_lexer": "ipython3",
   "version": "3.8.5"
  }
 },
 "nbformat": 4,
 "nbformat_minor": 5
}
