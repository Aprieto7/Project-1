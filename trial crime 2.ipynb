{
 "cells": [
  {
   "cell_type": "code",
   "execution_count": null,
   "id": "continent-roller",
   "metadata": {},
   "outputs": [],
   "source": [
    "import matplotlib.pyplot as plt\n",
    "import pandas as pd\n",
    "import numpy as np\n",
    "import requests\n",
    "import time\n",
    "#from scipy.stats import linregress\n",
    "import json\n",
    "from pprint import pprint\n",
    "all_agencies = \"agencies/all_agencies.csv\"\n",
    "agency_df = pd.read_csv(all_agencies)\n",
    "from config import fbi_key\n",
    "fbi_url = \"https://api.usa.gov/crime/fbi/sapi/\"\n",
    "\n",
    "\n",
    "agencies = agency_df[\"ori\"]\n",
    "agg_assault = []\n",
    "burglary = []\n",
    "larceny = []\n",
    "mvt = []\n",
    "homicide = []\n",
    "rape = []\n",
    "robbery = []\n",
    "arson = []\n",
    "viol_crime = []\n",
    "prop_crime = []\n",
    "crime = []\n",
    "\n",
    "for agency in agencies:\n",
    "\n",
    "#`https://api.usa.gov/crime/fbi/sapi/{desired_endpiont}?api_key'\n",
    "    url = f\"https://api.usa.gov/crime/fbi/sapi/api/summarized/agencies/{agency}/offenses/2019/2019?API_KEY={fbi_key}\"\n",
    "    response = requests.get(url)\n",
    "    response_json = response.json()\n",
    "    crime = response_json[\"results\"]\n",
    "    crime['actual']"
   ]
  }
 ],
 "metadata": {
  "kernelspec": {
   "display_name": "Python 3",
   "language": "python",
   "name": "python3"
  },
  "language_info": {
   "codemirror_mode": {
    "name": "ipython",
    "version": 3
   },
   "file_extension": ".py",
   "mimetype": "text/x-python",
   "name": "python",
   "nbconvert_exporter": "python",
   "pygments_lexer": "ipython3",
   "version": "3.9.2"
  }
 },
 "nbformat": 4,
 "nbformat_minor": 5
}
